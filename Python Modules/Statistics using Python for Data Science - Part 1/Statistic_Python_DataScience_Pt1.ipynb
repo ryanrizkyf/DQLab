{
 "cells": [
  {
   "cell_type": "markdown",
   "metadata": {},
   "source": [
    "# 2. Pengenalan Numpy dan Pandas"
   ]
  },
  {
   "cell_type": "markdown",
   "metadata": {},
   "source": [
    "# Load Library"
   ]
  },
  {
   "cell_type": "code",
   "execution_count": 2,
   "metadata": {},
   "outputs": [],
   "source": [
    "# Biasanya pada awal mula sebelum melakukan pengolahan data,\n",
    "# kita memanggil library yang diinginkan untuk digunakan dalam analisa data,\n",
    "# dalam hal ini kita akan memuat numpy dan pandas.\n",
    "\n",
    "# memuat numpy sebagai np\n",
    "import numpy as np\n",
    "\n",
    "# memuat pandas sebagai pd\n",
    "import pandas as pd"
   ]
  },
  {
   "cell_type": "markdown",
   "metadata": {},
   "source": [
    "# Load Dataset"
   ]
  },
  {
   "cell_type": "code",
   "execution_count": 3,
   "metadata": {},
   "outputs": [],
   "source": [
    "# Pada tahap pertama ketika ingin menganalisa data,\n",
    "# kita biasanya memuat data yang disimpan di salah satu folder\n",
    "# untuk dimuat ke IDE atau interactive notebook seperti Jupyter.\n",
    "# Untuk memuat data dalam format csv kita dapat menggunakan method .read_csv() dari pandas\n",
    "\n",
    "# memuat data bernama 'dataset_statistics.csv' dan memasukkan hasilnya ke dalam 'raw_data'\n",
    "raw_data = pd.read_csv(\n",
    "    \"https://storage.googleapis.com/dqlab-dataset/dataset_statistic.csv\", sep=';')"
   ]
  },
  {
   "cell_type": "markdown",
   "metadata": {},
   "source": [
    "# Inspeksi Data"
   ]
  },
  {
   "cell_type": "code",
   "execution_count": 4,
   "metadata": {},
   "outputs": [
    {
     "name": "stdout",
     "output_type": "stream",
     "text": [
      "    ID Pelanggan     Nama  Jenis Kelamin  Pendapatan Produk   Harga  Jumlah   \\\n",
      "0              1     Arif              1      600000      A  100000        4   \n",
      "1              2     Dian              2     1200000      D  250000        4   \n",
      "2              3    Dinda              2      950000      D  250000        3   \n",
      "3              4    Fajar              1      400000      A  100000        2   \n",
      "4              5      Ika              2     1200000      D  250000        4   \n",
      "5              6    Ilham              1      800000      B  150000        4   \n",
      "6              7    Indra              1      950000      B  150000        5   \n",
      "7              8  Kartika              2     1100000      E  300000        3   \n",
      "8              9  Lestari              2      800000      E  300000        2   \n",
      "9             10      Lia              2     1700000      E  300000        5   \n",
      "10            11    Maria              2      600000      A  100000        4   \n",
      "11            12     Maya              2      950000      B  150000        5   \n",
      "12            13     Mila              2      400000      C  200000        1   \n",
      "13            14    Nurul              2     6450000      D  250000        5   \n",
      "14            15    Retno              2     1000000      C  200000        4   \n",
      "15            16     Rini              2      800000      B  150000        4   \n",
      "16            17    Rizki              1     1200000      C  200000        5   \n",
      "17            18     Sari              2      700000      D  250000        2   \n",
      "18            19     Tyas              2      600000      A  100000        4   \n",
      "19            20    Wahyu              1      800000      C  200000        3   \n",
      "\n",
      "      Total  Tingkat Kepuasan  \n",
      "0    400000                 2  \n",
      "1   1000000                 2  \n",
      "2    750000                 3  \n",
      "3    200000                 3  \n",
      "4   1000000                 2  \n",
      "5    600000                 3  \n",
      "6    750000                 1  \n",
      "7    900000                 3  \n",
      "8    600000                 1  \n",
      "9   1500000                 1  \n",
      "10   400000                 3  \n",
      "11   750000                 3  \n",
      "12   200000                 2  \n",
      "13  1250000                 1  \n",
      "14   800000                 2  \n",
      "15   600000                 1  \n",
      "16  1000000                 3  \n",
      "17   500000                 1  \n",
      "18   400000                 3  \n",
      "19   600000                 1  \n",
      "   ID Pelanggan     Nama  Jenis Kelamin  Pendapatan Produk   Harga  Jumlah   \\\n",
      "0             1     Arif              1      600000      A  100000        4   \n",
      "1             2     Dian              2     1200000      D  250000        4   \n",
      "2             3    Dinda              2      950000      D  250000        3   \n",
      "3             4    Fajar              1      400000      A  100000        2   \n",
      "4             5      Ika              2     1200000      D  250000        4   \n",
      "5             6    Ilham              1      800000      B  150000        4   \n",
      "6             7    Indra              1      950000      B  150000        5   \n",
      "7             8  Kartika              2     1100000      E  300000        3   \n",
      "8             9  Lestari              2      800000      E  300000        2   \n",
      "9            10      Lia              2     1700000      E  300000        5   \n",
      "\n",
      "     Total  Tingkat Kepuasan  \n",
      "0   400000                 2  \n",
      "1  1000000                 2  \n",
      "2   750000                 3  \n",
      "3   200000                 3  \n",
      "4  1000000                 2  \n",
      "5   600000                 3  \n",
      "6   750000                 1  \n",
      "7   900000                 3  \n",
      "8   600000                 1  \n",
      "9  1500000                 1  \n",
      "    ID Pelanggan   Nama  Jenis Kelamin  Pendapatan Produk   Harga  Jumlah   \\\n",
      "15            16   Rini              2      800000      B  150000        4   \n",
      "16            17  Rizki              1     1200000      C  200000        5   \n",
      "17            18   Sari              2      700000      D  250000        2   \n",
      "18            19   Tyas              2      600000      A  100000        4   \n",
      "19            20  Wahyu              1      800000      C  200000        3   \n",
      "\n",
      "      Total  Tingkat Kepuasan  \n",
      "15   600000                 1  \n",
      "16  1000000                 3  \n",
      "17   500000                 1  \n",
      "18   400000                 3  \n",
      "19   600000                 1  \n"
     ]
    }
   ],
   "source": [
    "# Untuk melihat keseluruhan data cukup memanggil nama variabelnya dengan fungsi :\n",
    "print(raw_data)\n",
    "# melihat 10 data pada baris pertama\n",
    "print(raw_data.head(10))\n",
    "# melihat 5 data pada baris terakhir\n",
    "print(raw_data.tail())"
   ]
  },
  {
   "cell_type": "markdown",
   "metadata": {},
   "source": [
    "# Metode Shape"
   ]
  },
  {
   "cell_type": "code",
   "execution_count": 5,
   "metadata": {},
   "outputs": [
    {
     "name": "stdout",
     "output_type": "stream",
     "text": [
      "(20, 9)\n",
      "20\n"
     ]
    }
   ],
   "source": [
    "# Berapa banyak baris data dan fitur yang dataset punya?\n",
    "# Untuk melihat dimensi dari data kita dapat menggunakan method shape :\n",
    "# melihat dimensi dari raw_data\n",
    "print(raw_data.shape)\n",
    "# Sehingga untuk mengambil jumlah data, kita bisa mengambil nilai shape pada indeks ke 0\n",
    "# mengambil jumlah data\n",
    "print(raw_data.shape[0])"
   ]
  },
  {
   "cell_type": "markdown",
   "metadata": {},
   "source": [
    "# Melihat Kolom Dataset"
   ]
  },
  {
   "cell_type": "code",
   "execution_count": 6,
   "metadata": {},
   "outputs": [
    {
     "name": "stdout",
     "output_type": "stream",
     "text": [
      "    ID Pelanggan     Nama  Jenis Kelamin  Pendapatan Produk   Harga  Jumlah   \\\n",
      "0              1     Arif              1      600000      A  100000        4   \n",
      "1              2     Dian              2     1200000      D  250000        4   \n",
      "2              3    Dinda              2      950000      D  250000        3   \n",
      "3              4    Fajar              1      400000      A  100000        2   \n",
      "4              5      Ika              2     1200000      D  250000        4   \n",
      "5              6    Ilham              1      800000      B  150000        4   \n",
      "6              7    Indra              1      950000      B  150000        5   \n",
      "7              8  Kartika              2     1100000      E  300000        3   \n",
      "8              9  Lestari              2      800000      E  300000        2   \n",
      "9             10      Lia              2     1700000      E  300000        5   \n",
      "10            11    Maria              2      600000      A  100000        4   \n",
      "11            12     Maya              2      950000      B  150000        5   \n",
      "12            13     Mila              2      400000      C  200000        1   \n",
      "13            14    Nurul              2     6450000      D  250000        5   \n",
      "14            15    Retno              2     1000000      C  200000        4   \n",
      "15            16     Rini              2      800000      B  150000        4   \n",
      "16            17    Rizki              1     1200000      C  200000        5   \n",
      "17            18     Sari              2      700000      D  250000        2   \n",
      "18            19     Tyas              2      600000      A  100000        4   \n",
      "19            20    Wahyu              1      800000      C  200000        3   \n",
      "\n",
      "      Total  Tingkat Kepuasan  \n",
      "0    400000                 2  \n",
      "1   1000000                 2  \n",
      "2    750000                 3  \n",
      "3    200000                 3  \n",
      "4   1000000                 2  \n",
      "5    600000                 3  \n",
      "6    750000                 1  \n",
      "7    900000                 3  \n",
      "8    600000                 1  \n",
      "9   1500000                 1  \n",
      "10   400000                 3  \n",
      "11   750000                 3  \n",
      "12   200000                 2  \n",
      "13  1250000                 1  \n",
      "14   800000                 2  \n",
      "15   600000                 1  \n",
      "16  1000000                 3  \n",
      "17   500000                 1  \n",
      "18   400000                 3  \n",
      "19   600000                 1  \n",
      "Index(['ID Pelanggan', 'Nama', 'Jenis Kelamin', 'Pendapatan', 'Produk',\n",
      "       'Harga', 'Jumlah ', 'Total', 'Tingkat Kepuasan'],\n",
      "      dtype='object')\n"
     ]
    }
   ],
   "source": [
    "# Kolom apa saja yang terdapat dalam dataset?\n",
    "# Untuk melihat kolom apa saja yang terdapat pada dataset cukup menggunakan method columns:\n",
    "print(raw_data)\n",
    "print(raw_data.columns)"
   ]
  },
  {
   "cell_type": "markdown",
   "metadata": {},
   "source": [
    "# Metode Isna"
   ]
  },
  {
   "cell_type": "code",
   "execution_count": 7,
   "metadata": {},
   "outputs": [
    {
     "name": "stdout",
     "output_type": "stream",
     "text": [
      "    ID Pelanggan   Nama  Jenis Kelamin  Pendapatan  Produk  Harga  Jumlah   \\\n",
      "0          False  False          False       False   False  False    False   \n",
      "1          False  False          False       False   False  False    False   \n",
      "2          False  False          False       False   False  False    False   \n",
      "3          False  False          False       False   False  False    False   \n",
      "4          False  False          False       False   False  False    False   \n",
      "5          False  False          False       False   False  False    False   \n",
      "6          False  False          False       False   False  False    False   \n",
      "7          False  False          False       False   False  False    False   \n",
      "8          False  False          False       False   False  False    False   \n",
      "9          False  False          False       False   False  False    False   \n",
      "10         False  False          False       False   False  False    False   \n",
      "11         False  False          False       False   False  False    False   \n",
      "12         False  False          False       False   False  False    False   \n",
      "13         False  False          False       False   False  False    False   \n",
      "14         False  False          False       False   False  False    False   \n",
      "15         False  False          False       False   False  False    False   \n",
      "16         False  False          False       False   False  False    False   \n",
      "17         False  False          False       False   False  False    False   \n",
      "18         False  False          False       False   False  False    False   \n",
      "19         False  False          False       False   False  False    False   \n",
      "\n",
      "    Total  Tingkat Kepuasan  \n",
      "0   False             False  \n",
      "1   False             False  \n",
      "2   False             False  \n",
      "3   False             False  \n",
      "4   False             False  \n",
      "5   False             False  \n",
      "6   False             False  \n",
      "7   False             False  \n",
      "8   False             False  \n",
      "9   False             False  \n",
      "10  False             False  \n",
      "11  False             False  \n",
      "12  False             False  \n",
      "13  False             False  \n",
      "14  False             False  \n",
      "15  False             False  \n",
      "16  False             False  \n",
      "17  False             False  \n",
      "18  False             False  \n",
      "19  False             False  \n",
      "ID Pelanggan        0\n",
      "Nama                0\n",
      "Jenis Kelamin       0\n",
      "Pendapatan          0\n",
      "Produk              0\n",
      "Harga               0\n",
      "Jumlah              0\n",
      "Total               0\n",
      "Tingkat Kepuasan    0\n",
      "dtype: int64\n"
     ]
    }
   ],
   "source": [
    "# Ada berapa banyak data yang hilang dari dataset?\n",
    "# Untuk melihat data dari dataset bisa menggunakan method isna:\n",
    "print(raw_data.isna())\n",
    "\n",
    "# Nilai kolom akan bernilai False jika tidak terdapat nilai na dan akan bernilai True jika sebaliknya.\n",
    "\n",
    "# Untuk menghitung jumlah data yang hilang dari dataset, bisa menggabungkan method isna dengan method sum:\n",
    "print(raw_data.isna().sum())"
   ]
  },
  {
   "cell_type": "markdown",
   "metadata": {},
   "source": [
    "# Metode Describe"
   ]
  },
  {
   "cell_type": "code",
   "execution_count": 8,
   "metadata": {},
   "outputs": [
    {
     "name": "stdout",
     "output_type": "stream",
     "text": [
      "       ID Pelanggan  Jenis Kelamin    Pendapatan          Harga    Jumlah   \\\n",
      "count      20.00000      20.000000  2.000000e+01      20.000000  20.000000   \n",
      "mean       10.50000       1.700000  1.160000e+06  197500.000000   3.650000   \n",
      "std         5.91608       0.470162  1.282842e+06   69726.910912   1.182103   \n",
      "min         1.00000       1.000000  4.000000e+05  100000.000000   1.000000   \n",
      "25%         5.75000       1.000000  6.750000e+05  150000.000000   3.000000   \n",
      "50%        10.50000       2.000000  8.750000e+05  200000.000000   4.000000   \n",
      "75%        15.25000       2.000000  1.125000e+06  250000.000000   4.250000   \n",
      "max        20.00000       2.000000  6.450000e+06  300000.000000   5.000000   \n",
      "\n",
      "              Total  Tingkat Kepuasan  \n",
      "count  2.000000e+01         20.000000  \n",
      "mean   7.100000e+05          2.050000  \n",
      "std    3.338768e+05          0.887041  \n",
      "min    2.000000e+05          1.000000  \n",
      "25%    4.750000e+05          1.000000  \n",
      "50%    6.750000e+05          2.000000  \n",
      "75%    9.250000e+05          3.000000  \n",
      "max    1.500000e+06          3.000000  \n"
     ]
    },
    {
     "data": {
      "text/plain": [
       "100000"
      ]
     },
     "execution_count": 8,
     "metadata": {},
     "output_type": "execute_result"
    }
   ],
   "source": [
    "# Untuk bisa melihat ringkasan dari data misalnya rerata, jumlah, nilai maksimum-minimum dan ukuran lainnya.\n",
    "# Kita dapat menggunakan method .describe():\n",
    "print(raw_data.describe())\n",
    "\n",
    "# Selain itu terdapat beberapa fungsi yang umumnya dipakai dalam analisa data, diantaranya adalah:\n",
    "# Mencari nilai maksimum dengan method .max() dan nilai minimum dengan method .min()\n",
    "\n",
    "# Mencari nilai maksimum dari tiap kolom\n",
    "raw_data.max()\n",
    "\n",
    "# Mencari nilai maksimum dari kolom 'Harga'\n",
    "raw_data['Harga'].max()\n",
    "\n",
    "# Mencari nilai minimum dari kolom 'Harga'\n",
    "raw_data['Harga'].min()"
   ]
  },
  {
   "cell_type": "markdown",
   "metadata": {},
   "source": [
    "# Metode Sum"
   ]
  },
  {
   "cell_type": "code",
   "execution_count": 9,
   "metadata": {},
   "outputs": [
    {
     "name": "stdout",
     "output_type": "stream",
     "text": [
      "ID Pelanggan                                                      210\n",
      "Nama                ArifDianDindaFajarIkaIlhamIndraKartikaLestariL...\n",
      "Jenis Kelamin                                                      34\n",
      "Pendapatan                                                   23200000\n",
      "Produk                                           ADDADBBEEEABCDCBCDAC\n",
      "Harga                                                         3950000\n",
      "Jumlah                                                             73\n",
      "Total                                                        14200000\n",
      "Tingkat Kepuasan                                                   41\n",
      "dtype: object\n"
     ]
    },
    {
     "data": {
      "text/plain": [
       "Harga          3950000\n",
       "Pendapatan    23200000\n",
       "dtype: int64"
      ]
     },
     "execution_count": 9,
     "metadata": {},
     "output_type": "execute_result"
    }
   ],
   "source": [
    "# Jumlah dari semua nilai pada kolom dengan method .sum() agar menghasilkan :\n",
    "# menghitung jumlah dari semua kolom\n",
    "print(raw_data.sum())\n",
    "\n",
    "# menghitung jumlah dari semua kolom bertipe data numerik saja\n",
    "raw_data.sum(numeric_only=True)\n",
    "\n",
    "# menghitung jumlah dari kolom 'Harga' dan 'Pendapatan'\n",
    "raw_data[['Harga', 'Pendapatan']].sum()"
   ]
  },
  {
   "cell_type": "markdown",
   "metadata": {},
   "source": [
    "# Manipulasi Dataframe - Memilih Kolom dan Baris"
   ]
  },
  {
   "cell_type": "code",
   "execution_count": 10,
   "metadata": {},
   "outputs": [
    {
     "name": "stdout",
     "output_type": "stream",
     "text": [
      "0      600000\n",
      "1     1200000\n",
      "2      950000\n",
      "3      400000\n",
      "4     1200000\n",
      "5      800000\n",
      "6      950000\n",
      "7     1100000\n",
      "8      800000\n",
      "9     1700000\n",
      "10     600000\n",
      "11     950000\n",
      "12     400000\n",
      "13    6450000\n",
      "14    1000000\n",
      "15     800000\n",
      "16    1200000\n",
      "17     700000\n",
      "18     600000\n",
      "19     800000\n",
      "Name: Pendapatan, dtype: int64\n",
      "    Jenis Kelamin  Pendapatan\n",
      "0               1      600000\n",
      "1               2     1200000\n",
      "2               2      950000\n",
      "3               1      400000\n",
      "4               2     1200000\n",
      "5               1      800000\n",
      "6               1      950000\n",
      "7               2     1100000\n",
      "8               2      800000\n",
      "9               2     1700000\n",
      "10              2      600000\n",
      "11              2      950000\n",
      "12              2      400000\n",
      "13              2     6450000\n",
      "14              2     1000000\n",
      "15              2      800000\n",
      "16              1     1200000\n",
      "17              2      700000\n",
      "18              2      600000\n",
      "19              1      800000\n"
     ]
    }
   ],
   "source": [
    "# Terkadang kita hanya ingin melakukan analisa sebagian kecil dari data atau hanya beberapa kolom saja,\n",
    "# untuk itu kita dapat melakukan slice-and-dice pada data yang kita punya.\n",
    "\n",
    "# Untuk memilih kolom untuk dianalisa,\n",
    "# kita dapat memanggil objek dataframe yang sudah dibuat\n",
    "# dan menggunakan tanda ['nama_kolom'] untuk memilih satu kolom\n",
    "# atau [['nama_kolom_1', 'nama_kolom_2', ..., 'nama_kolom_n']] untuk memilih lebih dari 1 kolom.\n",
    "\n",
    "# Memilih kolom 'Pendapatan' saja\n",
    "print(raw_data['Pendapatan'])\n",
    "\n",
    "# Memilih kolom 'Jenis Kelamin' dan 'Pendapatan'\n",
    "print(raw_data[['Jenis Kelamin', 'Pendapatan']])"
   ]
  },
  {
   "cell_type": "markdown",
   "metadata": {},
   "source": [
    "# Metode Loc"
   ]
  },
  {
   "cell_type": "code",
   "execution_count": 11,
   "metadata": {},
   "outputs": [
    {
     "name": "stdout",
     "output_type": "stream",
     "text": [
      "   ID Pelanggan     Nama  Jenis Kelamin  Pendapatan Produk   Harga  Jumlah   \\\n",
      "0             1     Arif              1      600000      A  100000        4   \n",
      "1             2     Dian              2     1200000      D  250000        4   \n",
      "2             3    Dinda              2      950000      D  250000        3   \n",
      "3             4    Fajar              1      400000      A  100000        2   \n",
      "4             5      Ika              2     1200000      D  250000        4   \n",
      "5             6    Ilham              1      800000      B  150000        4   \n",
      "6             7    Indra              1      950000      B  150000        5   \n",
      "7             8  Kartika              2     1100000      E  300000        3   \n",
      "8             9  Lestari              2      800000      E  300000        2   \n",
      "9            10      Lia              2     1700000      E  300000        5   \n",
      "\n",
      "     Total  Tingkat Kepuasan  \n",
      "0   400000                 2  \n",
      "1  1000000                 2  \n",
      "2   750000                 3  \n",
      "3   200000                 3  \n",
      "4  1000000                 2  \n",
      "5   600000                 3  \n",
      "6   750000                 1  \n",
      "7   900000                 3  \n",
      "8   600000                 1  \n",
      "9  1500000                 1  \n",
      "   ID Pelanggan   Nama  Jenis Kelamin  Pendapatan Produk   Harga  Jumlah   \\\n",
      "3             4  Fajar              1      400000      A  100000        2   \n",
      "4             5    Ika              2     1200000      D  250000        4   \n",
      "\n",
      "     Total  Tingkat Kepuasan  \n",
      "3   200000                 3  \n",
      "4  1000000                 2  \n",
      "    ID Pelanggan   Nama  Jenis Kelamin  Pendapatan Produk   Harga  Jumlah   \\\n",
      "1              2   Dian              2     1200000      D  250000        4   \n",
      "3              4  Fajar              1      400000      A  100000        2   \n",
      "10            11  Maria              2      600000      A  100000        4   \n",
      "\n",
      "      Total  Tingkat Kepuasan  \n",
      "1   1000000                 2  \n",
      "3    200000                 3  \n",
      "10   400000                 3  \n",
      "   Jenis Kelamin  Pendapatan\n",
      "1              2     1200000\n",
      "2              2      950000\n",
      "3              1      400000\n",
      "4              2     1200000\n",
      "5              1      800000\n",
      "6              1      950000\n",
      "7              2     1100000\n",
      "8              2      800000\n",
      "9              2     1700000\n",
      "     Harga  Tingkat Kepuasan\n",
      "1   250000                 2\n",
      "10  100000                 3\n",
      "15  150000                 1\n"
     ]
    }
   ],
   "source": [
    "# Untuk memilih baris, kita dapat menggunakan [m:n] untuk mengambil baris data ke-m sampai ke-(n-1)\n",
    "# atau bisa juga menggunakan method loc untuk pemilihan baris yang lebih spesifik.\n",
    "\n",
    "# mengambil data dari baris ke-0 sampai baris ke-(10-1) atau baris ke-9\n",
    "print(raw_data[:10])\n",
    "\n",
    "# mengambil data dari baris ke-3 sampai baris ke-(5-1) atau baris ke-4\n",
    "print(raw_data[3:5])\n",
    "\n",
    "# mengambil data pada baris ke-1, ke-3 dan ke-10\n",
    "print(raw_data.loc[[1, 3, 10]])\n",
    "\n",
    "# Kita juga dapat melakukan pemilihan kolom dan baris secara bersamaan\n",
    "# Mengambil kolom 'Jenis Kelamin' dan 'Pendapatan' dan ambil baris ke-1 sampai ke-9\n",
    "print(raw_data[['Jenis Kelamin', 'Pendapatan']][1:10])\n",
    "\n",
    "# Mengambil kolom 'Harga' dan 'Tingkat Kepuasan' dan ambil baris ke-1, ke-10 dan ke-15\n",
    "print(raw_data[['Harga', 'Tingkat Kepuasan']].loc[[1, 10, 15]])"
   ]
  },
  {
   "cell_type": "markdown",
   "metadata": {},
   "source": [
    "# 3. Ukuran Pusat"
   ]
  },
  {
   "cell_type": "markdown",
   "metadata": {},
   "source": [
    "# Rata-Rata (Mean)"
   ]
  },
  {
   "cell_type": "code",
   "execution_count": 12,
   "metadata": {},
   "outputs": [
    {
     "name": "stdout",
     "output_type": "stream",
     "text": [
      "550000.0\n",
      "550000.0\n"
     ]
    }
   ],
   "source": [
    "# Rata-rata atau mean adalah salah satu ukuran pusat yang nilainya diperoleh dengan cara\n",
    "# menjumlahkan semua nilai titik data yang ada lalu dibagi oleh jumlah data.\n",
    "\n",
    "# Secara matematis hal ini dapat dirumuskan sebagai berikut:\n",
    "# Lihat gambar pada file RataRata_Mean.png\n",
    "# Dimana:\n",
    "# x¯ adalah rerata\n",
    "# x1,x2,...,xn adalah titik data\n",
    "# n adalah jumlah data\n",
    "\n",
    "# Kita dapat menghitung nilai rata-rata menggunakan method .mean() pada numpy atau pandas\n",
    "# mengambil hanya data untuk produk 'A'\n",
    "produk_A = raw_data[raw_data['Produk'] == 'A']\n",
    "\n",
    "# menghitung rerata pendapatan menggunakan method .mean pada objek pandas DataFrame\n",
    "print(produk_A['Pendapatan'].mean())\n",
    "\n",
    "# menghitung rerata pendapatan menggunakan method .mean pada objek pandas DataFrame dengan numpy\n",
    "print(np.mean(produk_A['Pendapatan']))"
   ]
  },
  {
   "cell_type": "markdown",
   "metadata": {},
   "source": [
    "# Median"
   ]
  },
  {
   "cell_type": "code",
   "execution_count": 15,
   "metadata": {},
   "outputs": [
    {
     "name": "stdout",
     "output_type": "stream",
     "text": [
      "    ID Pelanggan     Nama  Jenis Kelamin  Pendapatan Produk   Harga  Jumlah   \\\n",
      "0              1     Arif              1      600000      A  100000        4   \n",
      "1              2     Dian              2     1200000      D  250000        4   \n",
      "2              3    Dinda              2      950000      D  250000        3   \n",
      "3              4    Fajar              1      400000      A  100000        2   \n",
      "4              5      Ika              2     1200000      D  250000        4   \n",
      "5              6    Ilham              1      800000      B  150000        4   \n",
      "6              7    Indra              1      950000      B  150000        5   \n",
      "7              8  Kartika              2     1100000      E  300000        3   \n",
      "8              9  Lestari              2      800000      E  300000        2   \n",
      "9             10      Lia              2     1700000      E  300000        5   \n",
      "10            11    Maria              2      600000      A  100000        4   \n",
      "11            12     Maya              2      950000      B  150000        5   \n",
      "12            13     Mila              2      400000      C  200000        1   \n",
      "13            14    Nurul              2     6450000      D  250000        5   \n",
      "14            15    Retno              2     1000000      C  200000        4   \n",
      "15            16     Rini              2      800000      B  150000        4   \n",
      "16            17    Rizki              1     1200000      C  200000        5   \n",
      "17            18     Sari              2      700000      D  250000        2   \n",
      "18            19     Tyas              2      600000      A  100000        4   \n",
      "19            20    Wahyu              1      800000      C  200000        3   \n",
      "\n",
      "      Total  Tingkat Kepuasan  \n",
      "0    400000                 2  \n",
      "1   1000000                 2  \n",
      "2    750000                 3  \n",
      "3    200000                 3  \n",
      "4   1000000                 2  \n",
      "5    600000                 3  \n",
      "6    750000                 1  \n",
      "7    900000                 3  \n",
      "8    600000                 1  \n",
      "9   1500000                 1  \n",
      "10   400000                 3  \n",
      "11   750000                 3  \n",
      "12   200000                 2  \n",
      "13  1250000                 1  \n",
      "14   800000                 2  \n",
      "15   600000                 1  \n",
      "16  1000000                 3  \n",
      "17   500000                 1  \n",
      "18   400000                 3  \n",
      "19   600000                 1  \n",
      "600000.0\n",
      "600000.0\n"
     ]
    }
   ],
   "source": [
    "# Median adalah salah satu ukuran pusat yang nilainya terletak di tengah titik data.\n",
    "# Sebagai gambaran, jika kita memiliki titik data bernilai 1, 2, 3, 4, 4, 5, 6\n",
    "# maka median dari sekumpulan titik data tersebut adalah 4.\n",
    "\n",
    "# Namun jika kita memiliki titik data bernilai 1, 2, 3, 3\n",
    "# maka media dari sekumpulan titik data tersebut adalah:\n",
    "# Lihat gambar pada file Median.png\n",
    "\n",
    "# Kita dapat menemukan nilai median dengan menggunakan method .median() pada numpy maupun pandas\n",
    "print (raw_data)\n",
    "# Hitung median dari pendapatan menggunakan pandas\n",
    "print (produk_A['Pendapatan'].median())\n",
    " \n",
    "# Hitung median dari pendapatan menggunakan numpy\n",
    "print (np.median(produk_A['Pendapatan']))"
   ]
  },
  {
   "cell_type": "markdown",
   "metadata": {},
   "source": [
    "# Modus"
   ]
  },
  {
   "cell_type": "code",
   "execution_count": 16,
   "metadata": {},
   "outputs": [
    {
     "name": "stdout",
     "output_type": "stream",
     "text": [
      "D    5\n",
      "C    4\n",
      "A    4\n",
      "B    4\n",
      "E    3\n",
      "Name: Produk, dtype: int64\n"
     ]
    }
   ],
   "source": [
    "# Modus didefinisikan sebagai data yang memiliki frekuensi kemunculan terbanyak/terbesar.\n",
    "# Sebagai contoh, jika terdapat titik data seperti berikut: 1, 1, 1, 1, 2, 3, 3, 4\n",
    "# maka modus dari data tersebut adalah 1 karena 1 muncul sebanyak 4 kali,\n",
    "# lebih banyak dibanding titik data lainnya.\n",
    "\n",
    "# Kita dapat menggunakan method .count_values() pada pandas\n",
    "# Melihat jumlah dari masing-masing produk\n",
    "print(raw_data['Produk'].value_counts())"
   ]
  },
  {
   "cell_type": "markdown",
   "metadata": {},
   "source": [
    "# Kuantil"
   ]
  },
  {
   "cell_type": "code",
   "execution_count": 17,
   "metadata": {},
   "outputs": [
    {
     "name": "stdout",
     "output_type": "stream",
     "text": [
      "875000.0\n",
      "875000.0\n"
     ]
    }
   ],
   "source": [
    "# Kuantil adalah nilai-nilai data yang membagi data,\n",
    "# yang telah diurutkan sebelumnya menjadi beberapa bagian yang sama besar ukurannya.\n",
    "\n",
    "# Beberapa ukuran fraktil ini diantaranya adalah:\n",
    "# Kuartil: Adalah kuantil yang membagi data menjadi empat bagian sama besar.\n",
    "# Kuartil ke-2 dari adalah median dari data tersebut.\n",
    "# Desil: Adalah kuantil yang membagi data menjadi 10 bagian sama besar.\n",
    "# Persentil: Adalah kuantil yang membagi data menjadi 100 bagian sama besar.\n",
    "\n",
    "# Untuk mencari fraktil dari data, kita dapat menggunakan method .quantile dari pandas atau numpy\n",
    "# mencari median atau 50% dari data menggunakan pandas\n",
    "print(raw_data['Pendapatan'].quantile(q=0.5))\n",
    "\n",
    "# mencari median atau 50% dari data menggunakan pandas\n",
    "print(np.quantile(raw_data['Pendapatan'], q=0.5))"
   ]
  },
  {
   "cell_type": "markdown",
   "metadata": {},
   "source": [
    "# Agregasi Data dengan method .agg()"
   ]
  },
  {
   "cell_type": "code",
   "execution_count": 18,
   "metadata": {},
   "outputs": [
    {
     "name": "stdout",
     "output_type": "stream",
     "text": [
      "        Pendapatan     Harga\n",
      "mean     1160000.0  197500.0\n",
      "median    875000.0  200000.0\n",
      "       Pendapatan            Harga        \n",
      "             mean   median    mean  median\n",
      "Produk                                    \n",
      "A          550000   600000  100000  100000\n",
      "B          875000   875000  150000  150000\n",
      "C          850000   900000  200000  200000\n",
      "D         2100000  1200000  250000  250000\n",
      "E         1200000  1100000  300000  300000\n"
     ]
    }
   ],
   "source": [
    "# Ada kalanya kita ingin menghitung sekaligus beberapa ukuran,\n",
    "# misalnya menghitung nilai mean sekaligus menghitung nilai median.\n",
    "# Kita dapat melakukan kedua hal tersebut dengan menggunakan method .agg() pada objek pandas.\n",
    "\n",
    "# menghitung rerata dan median usia (age) dan insulin (insu)\n",
    "print(raw_data[['Pendapatan', 'Harga']].agg([np.mean, np.median]))\n",
    "\n",
    "# menghitung rerata dan median Pendapatan dan Harga dari tiap produk\n",
    "print(raw_data[['Pendapatan', 'Harga', 'Produk']].groupby(\n",
    "    'Produk').agg([np.mean, np.median]))"
   ]
  },
  {
   "cell_type": "markdown",
   "metadata": {},
   "source": [
    "# 4. Ukuran Sebaran"
   ]
  },
  {
   "cell_type": "markdown",
   "metadata": {},
   "source": [
    "# Proporsi Kategori"
   ]
  },
  {
   "cell_type": "code",
   "execution_count": 19,
   "metadata": {},
   "outputs": [
    {
     "name": "stdout",
     "output_type": "stream",
     "text": [
      "D    0.25\n",
      "C    0.20\n",
      "A    0.20\n",
      "B    0.20\n",
      "E    0.15\n",
      "Name: Produk, dtype: float64\n"
     ]
    }
   ],
   "source": [
    "# Proporsi kategori adalah ukuran sebaran yang paling sederhana\n",
    "# dari ukuran sebaran pada data nomisal dan ordinal.\n",
    "\n",
    "# Secara matematis dapat dirumuskan sebagai:\n",
    "# Lihat gambar pada file ProporsiKategori.png\n",
    "\n",
    "# cari proporsi tiap Produk\n",
    "print(raw_data['Produk'].value_counts()/raw_data.shape[0])"
   ]
  },
  {
   "cell_type": "markdown",
   "metadata": {},
   "source": [
    "# Ukuran Sebaran pada Data Interval dan Rasio"
   ]
  },
  {
   "cell_type": "code",
   "execution_count": 20,
   "metadata": {},
   "outputs": [
    {
     "name": "stdout",
     "output_type": "stream",
     "text": [
      "6050000\n"
     ]
    }
   ],
   "source": [
    "# Rentang (range)\n",
    "\n",
    "# Rentang adalah jarak antara nilai maksimum dengan nilai minimum.\n",
    "# Semakin besar jarang antara nilai maksimum dan minimum semakin besar pula sebaran datanya.\n",
    "\n",
    "# Secara matematis dapat dituliskan sebagai berikut:\n",
    "# Range=max(X)−min(X)\n",
    "\n",
    "# Dengan X adalah sampel atau populasi yang sedang diamati.\n",
    "\n",
    "# Cari nilai rentang dari kolom 'Pendapatan'\n",
    "print(raw_data['Pendapatan'].max() - raw_data['Pendapatan'].min())"
   ]
  },
  {
   "cell_type": "markdown",
   "metadata": {},
   "source": [
    "# Variansi"
   ]
  },
  {
   "cell_type": "code",
   "execution_count": 21,
   "metadata": {},
   "outputs": [
    {
     "name": "stdout",
     "output_type": "stream",
     "text": [
      "1645684210526.3157\n",
      "1563400000000.0\n",
      "1563400000000.0\n"
     ]
    }
   ],
   "source": [
    "# Variansi adalah ukuran sebaran pusat yang diperoleh dengan\n",
    "# cara menghitung jarak antara tiap titik data pada sampel atau populasi dengan nilai mean.\n",
    "\n",
    "# Secara matematis variansi dirumuskan sebagai berikut:\n",
    "# Lihat gambar pada file Variansi.png\n",
    "\n",
    "# Untuk menghitung variansi kita dapat menggunakan method .var() dari numpy maupun pandas.\n",
    "\n",
    "# menghitung variansi umur menggunakan method .var() dari pandas\n",
    "print(raw_data['Pendapatan'].var())\n",
    "\n",
    "# menghitung variansi umur menggunakan method .var() dari numpy\n",
    "print(np.var(raw_data['Pendapatan']))\n",
    "\n",
    "# Note: Perhatikan bahwa nilai variansi keduanya berbeda.\n",
    "# Hal ini karena secara default pandas menggunakan variansi sampel,\n",
    "# sedangkan numpy menggunakan variansi populasi.\n",
    "# Untuk memperoleh hasil yang sama kita dapat menggunakan parameter ddof=0\n",
    "# pada method .var() untuk memperoleh variansi populasi.\n",
    "\n",
    "# mengatur variansi populasi dengan method `.var()` dari pandas\n",
    "print(raw_data['Pendapatan'].var(ddof=0))"
   ]
  },
  {
   "cell_type": "markdown",
   "metadata": {},
   "source": [
    "# Deviasi Baku (Standard Deviation)"
   ]
  },
  {
   "cell_type": "code",
   "execution_count": 22,
   "metadata": {},
   "outputs": [
    {
     "name": "stdout",
     "output_type": "stream",
     "text": [
      "1282842.2391417876\n",
      "1282842.2391417876\n"
     ]
    }
   ],
   "source": [
    "# Deviasi baku adalah ukuran sebaran pusat yang diperoleh,\n",
    "# dengan cara menarik akar kuadrat dari hasil perhitungan variansi.\n",
    "# Hal ini dilakukan karena nilai variansi umumnya memiliki nilai yang lebih besar,\n",
    "# daripada nilai aslinya sebagai efek dari pengkuadratan dan ini menjadikan variansi sulit untuk diinterpretasikan.\n",
    "\n",
    "# Secara matematis deviasi baku dapat dirumuskan sebagi berikut:\n",
    "# Lihat gambar pada file DeviasiBaku.png\n",
    "\n",
    "# Kita dapat menghitung deviasi baku menggunakan method .std dari numpy maupun pandas.\n",
    "\n",
    "# menghitung deviasi baku sampel pendapatan menggunakan method std() dari pandas\n",
    "print(raw_data['Pendapatan'].std())\n",
    "\n",
    "# menghitung deviasi baku sampel pendapatan menggunakan method std() dari numpy\n",
    "print(np.std(raw_data['Pendapatan'], ddof=1))"
   ]
  },
  {
   "cell_type": "markdown",
   "metadata": {},
   "source": [
    "# 5. Korelasi"
   ]
  },
  {
   "cell_type": "markdown",
   "metadata": {},
   "source": [
    "# Menghitung Korelasi"
   ]
  },
  {
   "cell_type": "code",
   "execution_count": 23,
   "metadata": {},
   "outputs": [
    {
     "name": "stdout",
     "output_type": "stream",
     "text": [
      "                  ID Pelanggan  Jenis Kelamin  Pendapatan     Harga   Jumlah   \\\n",
      "ID Pelanggan          1.000000       0.151375    0.110958 -0.028707  0.011289   \n",
      "Jenis Kelamin         0.151375       1.000000    0.192849  0.457555 -0.104168   \n",
      "Pendapatan            0.110958       0.192849    1.000000  0.322443  0.399825   \n",
      "Harga                -0.028707       0.457555    0.322443  1.000000 -0.138883   \n",
      "Jumlah                0.011289      -0.104168    0.399825 -0.138883  1.000000   \n",
      "Total                -0.039968       0.238051    0.592044  0.645455  0.636097   \n",
      "Tingkat Kepuasan     -0.245717      -0.088339   -0.312663 -0.380798  0.017568   \n",
      "\n",
      "                     Total  Tingkat Kepuasan  \n",
      "ID Pelanggan     -0.039968         -0.245717  \n",
      "Jenis Kelamin     0.238051         -0.088339  \n",
      "Pendapatan        0.592044         -0.312663  \n",
      "Harga             0.645455         -0.380798  \n",
      "Jumlah            0.636097          0.017568  \n",
      "Total             1.000000         -0.268345  \n",
      "Tingkat Kepuasan -0.268345          1.000000  \n",
      "                  ID Pelanggan  Jenis Kelamin  Pendapatan     Harga   Jumlah   \\\n",
      "ID Pelanggan          1.000000       0.126650   -0.054998 -0.005753  0.024016   \n",
      "Jenis Kelamin         0.126650       1.000000    0.190245  0.415339 -0.090299   \n",
      "Pendapatan           -0.054998       0.190245    1.000000  0.523053  0.501925   \n",
      "Harga                -0.005753       0.415339    0.523053  1.000000 -0.098450   \n",
      "Jumlah                0.024016      -0.090299    0.501925 -0.098450  1.000000   \n",
      "Total                -0.065998       0.190245    0.988506  0.535078  0.501925   \n",
      "Tingkat Kepuasan     -0.183817      -0.085796   -0.165588 -0.325659 -0.028923   \n",
      "\n",
      "                     Total  Tingkat Kepuasan  \n",
      "ID Pelanggan     -0.065998         -0.183817  \n",
      "Jenis Kelamin     0.190245         -0.085796  \n",
      "Pendapatan        0.988506         -0.165588  \n",
      "Harga             0.535078         -0.325659  \n",
      "Jumlah            0.501925         -0.028923  \n",
      "Total             1.000000         -0.165588  \n",
      "Tingkat Kepuasan -0.165588          1.000000  \n",
      "                  ID Pelanggan  Jenis Kelamin  Pendapatan     Harga   Jumlah   \\\n",
      "ID Pelanggan          1.000000       0.151375   -0.063711 -0.039149  0.046356   \n",
      "Jenis Kelamin         0.151375       1.000000    0.219508  0.463635 -0.098864   \n",
      "Pendapatan           -0.063711       0.219508    1.000000  0.640000  0.607110   \n",
      "Harga                -0.039149       0.463635    0.640000  1.000000 -0.130749   \n",
      "Jumlah                0.046356      -0.098864    0.607110 -0.130749  1.000000   \n",
      "Total                -0.069779       0.219508    0.998470  0.646194  0.607110   \n",
      "Tingkat Kepuasan     -0.238890      -0.090784   -0.192463 -0.378933 -0.023874   \n",
      "\n",
      "                     Total  Tingkat Kepuasan  \n",
      "ID Pelanggan     -0.069779         -0.238890  \n",
      "Jenis Kelamin     0.219508         -0.090784  \n",
      "Pendapatan        0.998470         -0.192463  \n",
      "Harga             0.646194         -0.378933  \n",
      "Jumlah            0.607110         -0.023874  \n",
      "Total             1.000000         -0.192463  \n",
      "Tingkat Kepuasan -0.192463          1.000000  \n"
     ]
    }
   ],
   "source": [
    "# Untuk menghitung korelasi antara kedua variabel,\n",
    "# kita dapat menggunakan method .corr() dari pandas\n",
    "\n",
    "# menghitung korelasi dari setiap pasang variabel pada raw_data\n",
    "print(raw_data.corr())\n",
    "\n",
    "# Perhatikan bahwa hanya variabel bertipe numerik saja yang dihitung nilai korelasinya.\n",
    "# Selain itu secara default method .corr() memiliki parameter method bernilai pearson,\n",
    "# sehingga nilai korelasi di atas adalah korelasi Pearson.\n",
    "# Untuk menggantinya menjadi korelasi Kendall\n",
    "# atau korelasi Spearman kita cukup menambahkan parameter method='kendall'\n",
    "# atau method='spearman' pada method .corr()\n",
    "\n",
    "# mencari korelasi 'kendall' untuk tiap pasang variabel\n",
    "print(raw_data.corr(method='kendall'))\n",
    "# mencari korelasi 'spearman' untuk tiap pasang variabel\n",
    "print(raw_data.corr(method='spearman'))"
   ]
  }
 ],
 "metadata": {
  "kernelspec": {
   "display_name": "Python 3",
   "language": "python",
   "name": "python3"
  },
  "language_info": {
   "codemirror_mode": {
    "name": "ipython",
    "version": 3
   },
   "file_extension": ".py",
   "mimetype": "text/x-python",
   "name": "python",
   "nbconvert_exporter": "python",
   "pygments_lexer": "ipython3",
   "version": "3.7.6"
  }
 },
 "nbformat": 4,
 "nbformat_minor": 4
}
